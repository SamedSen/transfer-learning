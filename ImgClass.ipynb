{
  "cells": [
    {
      "cell_type": "code",
      "execution_count": null,
      "metadata": {
        "id": "0OZfgNLymm4M"
      },
      "outputs": [],
      "source": [
        "import numpy as np\n",
        "import matplotlib.pyplot as plt\n",
        "import os #tüm dosyaları okuyabilmek için\n",
        "\n",
        "\n",
        "# ikili değerde matriks oluşturmak için\n",
        "from tensorflow.keras.utils import to_categorical\n",
        "# verileri temizleme ve organize etmek için\n",
        "from tensorflow.keras.preprocessing import image\n",
        "#model ve katman eklemek için\n",
        "from tensorflow.keras import models, layers\n",
        "\n",
        "# Library for Transfer Learning\n",
        "from tensorflow.keras.applications import resnet50\n",
        "from tensorflow.python.keras.models import Sequential\n",
        "from tensorflow.python.keras.layers import Dense"
      ]
    },
    {
      "cell_type": "code",
      "execution_count": null,
      "metadata": {
        "id": "5mfZNrDusswh"
      },
      "outputs": [],
      "source": [
        "import zipfile\n",
        "\n",
        "# ZIP dosyasının adını belirtin\n",
        "zip_dosya_adi = '/content/drive/MyDrive/Dataset.zip'\n",
        "\n",
        "# ZIP dosyasını çıkarın\n",
        "with zipfile.ZipFile(zip_dosya_adi, 'r') as zip_arsiv:\n",
        "    zip_arsiv.extractall('/content/drive/MyDrive')  # Çıkarılan dosyaları saklamak için bir dizin belirtin\n"
      ]
    },
    {
      "cell_type": "code",
      "execution_count": null,
      "metadata": {
        "colab": {
          "base_uri": "https://localhost:8080/",
          "height": 1000
        },
        "collapsed": true,
        "id": "tSN49ptZVCir",
        "outputId": "e050d9ef-539a-4fe3-9c4f-04f5fef4696a"
      },
      "outputs": [],
      "source": [
        "testFile = '/content/drive/MyDrive/Dataset/TestSet'\n",
        "classNames = os.listdir(testFile)\n",
        "#image array değerleri içim\n",
        "testArray=[]\n",
        "#image labelları için\n",
        "testLabel=[]\n",
        "\n",
        "#bu döngü sayesinde tüm verileri istediğimiz boyuta getirebiliyoruz\n",
        "for folder in os.listdir(testFile): #klasör içindeki tüm klasörleri döner\n",
        "    imageList=os.listdir(testFile+\"/\"+folder)\n",
        "    for imgName in imageList: #içerideki klasörün içindeki verilerin hepsini döner\n",
        "\n",
        "        img=image.load_img(testFile+\"/\"+folder+\"/\"+imgName,target_size=(224,224))\n",
        "\n",
        "        #imageleri arraye çevirmek için\n",
        "        img=image.img_to_array(img)\n",
        "\n",
        "        # Transfer Learning:\n",
        "        img=resnet50.preprocess_input(img)\n",
        "\n",
        "        # Appending the arrarys\n",
        "        testArray.append(img) # appending image array\n",
        "        testLabel.append(classNames.index(folder)) # appending class index to the array\n"
      ]
    },
    {
      "cell_type": "code",
      "execution_count": null,
      "metadata": {
        "id": "a8qckhxpt7Xy"
      },
      "outputs": [],
      "source": [
        "valFile = '/content/drive/MyDrive/Dataset/ValSet'\n",
        "valClassNames = os.listdir(valFile)\n",
        "#image array değerleri içim\n",
        "valArray=[]\n",
        "#image labelları için\n",
        "valLabel=[]\n",
        "\n",
        "#bu döngü sayesinde tüm verileri istediğimiz boyuta getirebiliyoruz\n",
        "for folder in os.listdir(valFile): #klasör içindeki tüm klasörleri döner\n",
        "    imageList=os.listdir(valFile+\"/\"+folder)\n",
        "    for imgName in imageList: #içerideki klasörün içindeki verilerin hepsini döner\n",
        "\n",
        "        img=image.load_img(valFile+\"/\"+folder+\"/\"+imgName,target_size=(224,224))\n",
        "\n",
        "        #imageleri arraye çevirmek için\n",
        "        img=image.img_to_array(img)\n",
        "\n",
        "        # Transfer Learning:\n",
        "        img=resnet50.preprocess_input(img)\n",
        "\n",
        "        # Appending the arrarys\n",
        "        valArray.append(img) # appending image array\n",
        "        valLabel.append(valClassNames.index(folder)) # appending class index to the array\n"
      ]
    },
    {
      "cell_type": "code",
      "execution_count": null,
      "metadata": {
        "collapsed": true,
        "id": "8UMFs1kLv5Ui"
      },
      "outputs": [],
      "source": [
        "realresnetModel=resnet50.ResNet50(weights='imagenet',input_shape=(224,224,3),include_top=False,pooling='avg')\n"
      ]
    },
    {
      "cell_type": "code",
      "execution_count": null,
      "metadata": {
        "collapsed": true,
        "id": "JK03wsaQwwfE"
      },
      "outputs": [],
      "source": [
        "realresnetModel.summary()\n"
      ]
    },
    {
      "cell_type": "code",
      "execution_count": null,
      "metadata": {
        "id": "R1SzriLjebXO"
      },
      "outputs": [],
      "source": [
        "for layer in realresnetModel.layers[:-1]:\n",
        "  realresnetModel.trainable = False"
      ]
    },
    {
      "cell_type": "code",
      "execution_count": null,
      "metadata": {
        "collapsed": true,
        "id": "k2mtyweubgoj"
      },
      "outputs": [],
      "source": [
        "pip install tensorflow\n"
      ]
    },
    {
      "cell_type": "code",
      "execution_count": null,
      "metadata": {
        "collapsed": true,
        "id": "E03-otsfmp2_"
      },
      "outputs": [],
      "source": [
        "from tensorflow.keras.models import Sequential, Model\n",
        "realresnetModel = Model(inputs=realresnetModel.input, outputs=realresnetModel.layers[-2].output)\n",
        "\n",
        "resnet_model=models.Sequential()\n",
        "\n",
        "resnet_model.add(realresnetModel)\n",
        "resnet_model.add(layers.Conv2D(128,(3,3),padding='same',activation ='relu',input_shape=(224,224)))\n",
        "resnet_model.add(layers.MaxPooling2D((2, 2)))\n",
        "resnet_model.add(layers.Conv2D(128, (3, 3), padding='same', activation='relu'))\n",
        "resnet_model.add(layers.MaxPooling2D((2, 2)))\n",
        "resnet_model.add(layers.Dropout(0.15))\n",
        "resnet_model.add(layers.Conv2D(64, (3, 3), padding='same', activation='relu'))\n",
        "resnet_model.add(layers.Flatten())\n",
        "resnet_model.add(Dense(16,activation='relu'))\n",
        "resnet_model.add(layers.Dropout(0.2))\n",
        "resnet_model.add(Dense(8,activation='relu'))\n",
        "resnet_model.add(Dense(5,activation='softmax'))\n",
        "resnet_model.summary()"
      ]
    },
    {
      "cell_type": "code",
      "execution_count": null,
      "metadata": {
        "id": "US5lnVYP77X4"
      },
      "outputs": [],
      "source": [
        "resnet_model.compile(optimizer='adam',loss='sparse_categorical_crossentropy',metrics=['accuracy'])\n"
      ]
    },
    {
      "cell_type": "code",
      "execution_count": null,
      "metadata": {
        "collapsed": true,
        "id": "KP8B1MQOr337"
      },
      "outputs": [],
      "source": [
        "testArray=np.array(testArray)\n",
        "testLabel=np.array(testLabel)\n",
        "valArray=np.array(valArray)\n",
        "valLabel=np.array(valLabel)\n",
        "history = resnet_model.fit(x=testArray,y=testLabel, epochs=50,validation_data=(valArray,valLabel))"
      ]
    },
    {
      "cell_type": "code",
      "execution_count": null,
      "metadata": {
        "id": "5Te3pO1Dh1d4"
      },
      "outputs": [],
      "source": []
    }
  ],
  "metadata": {
    "accelerator": "GPU",
    "colab": {
      "gpuType": "T4",
      "provenance": []
    },
    "kernelspec": {
      "display_name": "Python 3",
      "name": "python3"
    },
    "language_info": {
      "name": "python"
    }
  },
  "nbformat": 4,
  "nbformat_minor": 0
}
